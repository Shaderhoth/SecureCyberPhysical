{
  "cells": [
    {
      "cell_type": "markdown",
      "metadata": {
        "id": "P2RSPkNHh17U"
      },
      "source": [
        "Set up environment"
      ]
    },
    {
      "cell_type": "code",
      "execution_count": 1,
      "metadata": {
        "colab": {
          "base_uri": "https://localhost:8080/"
        },
        "id": "tFF8-d9Zhz8k",
        "outputId": "70f79138-4dd5-4c1a-c5d4-b20ec9d03b32"
      },
      "outputs": [
        {
          "name": "stdout",
          "output_type": "stream",
          "text": [
            "Requirement already satisfied: tensorflow in c:\\users\\david\\appdata\\local\\programs\\python\\python312\\lib\\site-packages (2.16.1)\n",
            "Requirement already satisfied: tensorflow-intel==2.16.1 in c:\\users\\david\\appdata\\local\\programs\\python\\python312\\lib\\site-packages (from tensorflow) (2.16.1)\n",
            "Requirement already satisfied: absl-py>=1.0.0 in c:\\users\\david\\appdata\\local\\programs\\python\\python312\\lib\\site-packages (from tensorflow-intel==2.16.1->tensorflow) (2.1.0)\n",
            "Requirement already satisfied: astunparse>=1.6.0 in c:\\users\\david\\appdata\\local\\programs\\python\\python312\\lib\\site-packages (from tensorflow-intel==2.16.1->tensorflow) (1.6.3)\n",
            "Requirement already satisfied: flatbuffers>=23.5.26 in c:\\users\\david\\appdata\\local\\programs\\python\\python312\\lib\\site-packages (from tensorflow-intel==2.16.1->tensorflow) (24.3.25)\n",
            "Requirement already satisfied: gast!=0.5.0,!=0.5.1,!=0.5.2,>=0.2.1 in c:\\users\\david\\appdata\\local\\programs\\python\\python312\\lib\\site-packages (from tensorflow-intel==2.16.1->tensorflow) (0.5.4)\n",
            "Requirement already satisfied: google-pasta>=0.1.1 in c:\\users\\david\\appdata\\local\\programs\\python\\python312\\lib\\site-packages (from tensorflow-intel==2.16.1->tensorflow) (0.2.0)\n",
            "Requirement already satisfied: h5py>=3.10.0 in c:\\users\\david\\appdata\\local\\programs\\python\\python312\\lib\\site-packages (from tensorflow-intel==2.16.1->tensorflow) (3.11.0)\n",
            "Requirement already satisfied: libclang>=13.0.0 in c:\\users\\david\\appdata\\local\\programs\\python\\python312\\lib\\site-packages (from tensorflow-intel==2.16.1->tensorflow) (18.1.1)\n",
            "Requirement already satisfied: ml-dtypes~=0.3.1 in c:\\users\\david\\appdata\\local\\programs\\python\\python312\\lib\\site-packages (from tensorflow-intel==2.16.1->tensorflow) (0.3.2)\n",
            "Requirement already satisfied: opt-einsum>=2.3.2 in c:\\users\\david\\appdata\\local\\programs\\python\\python312\\lib\\site-packages (from tensorflow-intel==2.16.1->tensorflow) (3.3.0)\n",
            "Requirement already satisfied: packaging in c:\\users\\david\\appdata\\local\\programs\\python\\python312\\lib\\site-packages (from tensorflow-intel==2.16.1->tensorflow) (24.0)\n",
            "Requirement already satisfied: protobuf!=4.21.0,!=4.21.1,!=4.21.2,!=4.21.3,!=4.21.4,!=4.21.5,<5.0.0dev,>=3.20.3 in c:\\users\\david\\appdata\\local\\programs\\python\\python312\\lib\\site-packages (from tensorflow-intel==2.16.1->tensorflow) (4.25.3)\n",
            "Requirement already satisfied: requests<3,>=2.21.0 in c:\\users\\david\\appdata\\local\\programs\\python\\python312\\lib\\site-packages (from tensorflow-intel==2.16.1->tensorflow) (2.31.0)\n",
            "Requirement already satisfied: setuptools in c:\\users\\david\\appdata\\local\\programs\\python\\python312\\lib\\site-packages (from tensorflow-intel==2.16.1->tensorflow) (69.5.1)\n",
            "Requirement already satisfied: six>=1.12.0 in c:\\users\\david\\appdata\\local\\programs\\python\\python312\\lib\\site-packages (from tensorflow-intel==2.16.1->tensorflow) (1.16.0)\n",
            "Requirement already satisfied: termcolor>=1.1.0 in c:\\users\\david\\appdata\\local\\programs\\python\\python312\\lib\\site-packages (from tensorflow-intel==2.16.1->tensorflow) (2.4.0)\n",
            "Requirement already satisfied: typing-extensions>=3.6.6 in c:\\users\\david\\appdata\\local\\programs\\python\\python312\\lib\\site-packages (from tensorflow-intel==2.16.1->tensorflow) (4.11.0)\n",
            "Requirement already satisfied: wrapt>=1.11.0 in c:\\users\\david\\appdata\\local\\programs\\python\\python312\\lib\\site-packages (from tensorflow-intel==2.16.1->tensorflow) (1.16.0)\n",
            "Requirement already satisfied: grpcio<2.0,>=1.24.3 in c:\\users\\david\\appdata\\local\\programs\\python\\python312\\lib\\site-packages (from tensorflow-intel==2.16.1->tensorflow) (1.62.2)\n",
            "Requirement already satisfied: tensorboard<2.17,>=2.16 in c:\\users\\david\\appdata\\local\\programs\\python\\python312\\lib\\site-packages (from tensorflow-intel==2.16.1->tensorflow) (2.16.2)\n",
            "Requirement already satisfied: keras>=3.0.0 in c:\\users\\david\\appdata\\local\\programs\\python\\python312\\lib\\site-packages (from tensorflow-intel==2.16.1->tensorflow) (3.2.1)\n",
            "Requirement already satisfied: numpy<2.0.0,>=1.26.0 in c:\\users\\david\\appdata\\local\\programs\\python\\python312\\lib\\site-packages (from tensorflow-intel==2.16.1->tensorflow) (1.26.4)\n",
            "Requirement already satisfied: wheel<1.0,>=0.23.0 in c:\\users\\david\\appdata\\local\\programs\\python\\python312\\lib\\site-packages (from astunparse>=1.6.0->tensorflow-intel==2.16.1->tensorflow) (0.43.0)\n",
            "Requirement already satisfied: rich in c:\\users\\david\\appdata\\local\\programs\\python\\python312\\lib\\site-packages (from keras>=3.0.0->tensorflow-intel==2.16.1->tensorflow) (13.7.1)\n",
            "Requirement already satisfied: namex in c:\\users\\david\\appdata\\local\\programs\\python\\python312\\lib\\site-packages (from keras>=3.0.0->tensorflow-intel==2.16.1->tensorflow) (0.0.8)\n",
            "Requirement already satisfied: optree in c:\\users\\david\\appdata\\local\\programs\\python\\python312\\lib\\site-packages (from keras>=3.0.0->tensorflow-intel==2.16.1->tensorflow) (0.11.0)\n",
            "Requirement already satisfied: charset-normalizer<4,>=2 in c:\\users\\david\\appdata\\local\\programs\\python\\python312\\lib\\site-packages (from requests<3,>=2.21.0->tensorflow-intel==2.16.1->tensorflow) (3.3.2)\n",
            "Requirement already satisfied: idna<4,>=2.5 in c:\\users\\david\\appdata\\local\\programs\\python\\python312\\lib\\site-packages (from requests<3,>=2.21.0->tensorflow-intel==2.16.1->tensorflow) (3.7)\n",
            "Requirement already satisfied: urllib3<3,>=1.21.1 in c:\\users\\david\\appdata\\local\\programs\\python\\python312\\lib\\site-packages (from requests<3,>=2.21.0->tensorflow-intel==2.16.1->tensorflow) (2.2.1)\n",
            "Requirement already satisfied: certifi>=2017.4.17 in c:\\users\\david\\appdata\\local\\programs\\python\\python312\\lib\\site-packages (from requests<3,>=2.21.0->tensorflow-intel==2.16.1->tensorflow) (2024.2.2)\n",
            "Requirement already satisfied: markdown>=2.6.8 in c:\\users\\david\\appdata\\local\\programs\\python\\python312\\lib\\site-packages (from tensorboard<2.17,>=2.16->tensorflow-intel==2.16.1->tensorflow) (3.6)\n",
            "Requirement already satisfied: tensorboard-data-server<0.8.0,>=0.7.0 in c:\\users\\david\\appdata\\local\\programs\\python\\python312\\lib\\site-packages (from tensorboard<2.17,>=2.16->tensorflow-intel==2.16.1->tensorflow) (0.7.2)\n",
            "Requirement already satisfied: werkzeug>=1.0.1 in c:\\users\\david\\appdata\\local\\programs\\python\\python312\\lib\\site-packages (from tensorboard<2.17,>=2.16->tensorflow-intel==2.16.1->tensorflow) (3.0.2)\n",
            "Requirement already satisfied: MarkupSafe>=2.1.1 in c:\\users\\david\\appdata\\local\\programs\\python\\python312\\lib\\site-packages (from werkzeug>=1.0.1->tensorboard<2.17,>=2.16->tensorflow-intel==2.16.1->tensorflow) (2.1.5)\n",
            "Requirement already satisfied: markdown-it-py>=2.2.0 in c:\\users\\david\\appdata\\local\\programs\\python\\python312\\lib\\site-packages (from rich->keras>=3.0.0->tensorflow-intel==2.16.1->tensorflow) (3.0.0)\n",
            "Requirement already satisfied: pygments<3.0.0,>=2.13.0 in c:\\users\\david\\appdata\\local\\programs\\python\\python312\\lib\\site-packages (from rich->keras>=3.0.0->tensorflow-intel==2.16.1->tensorflow) (2.17.2)\n",
            "Requirement already satisfied: mdurl~=0.1 in c:\\users\\david\\appdata\\local\\programs\\python\\python312\\lib\\site-packages (from markdown-it-py>=2.2.0->rich->keras>=3.0.0->tensorflow-intel==2.16.1->tensorflow) (0.1.2)\n",
            "Requirement already satisfied: pandas in c:\\users\\david\\appdata\\local\\programs\\python\\python312\\lib\\site-packages (2.2.2)\n",
            "Requirement already satisfied: numpy>=1.26.0 in c:\\users\\david\\appdata\\local\\programs\\python\\python312\\lib\\site-packages (from pandas) (1.26.4)\n",
            "Requirement already satisfied: python-dateutil>=2.8.2 in c:\\users\\david\\appdata\\local\\programs\\python\\python312\\lib\\site-packages (from pandas) (2.9.0.post0)\n",
            "Requirement already satisfied: pytz>=2020.1 in c:\\users\\david\\appdata\\local\\programs\\python\\python312\\lib\\site-packages (from pandas) (2024.1)\n",
            "Requirement already satisfied: tzdata>=2022.7 in c:\\users\\david\\appdata\\local\\programs\\python\\python312\\lib\\site-packages (from pandas) (2024.1)\n",
            "Requirement already satisfied: six>=1.5 in c:\\users\\david\\appdata\\local\\programs\\python\\python312\\lib\\site-packages (from python-dateutil>=2.8.2->pandas) (1.16.0)\n",
            "Requirement already satisfied: scikit-learn in c:\\users\\david\\appdata\\local\\programs\\python\\python312\\lib\\site-packages (1.4.2)\n",
            "Requirement already satisfied: numpy>=1.19.5 in c:\\users\\david\\appdata\\local\\programs\\python\\python312\\lib\\site-packages (from scikit-learn) (1.26.4)\n",
            "Requirement already satisfied: scipy>=1.6.0 in c:\\users\\david\\appdata\\local\\programs\\python\\python312\\lib\\site-packages (from scikit-learn) (1.13.0)\n",
            "Requirement already satisfied: joblib>=1.2.0 in c:\\users\\david\\appdata\\local\\programs\\python\\python312\\lib\\site-packages (from scikit-learn) (1.4.0)\n",
            "Requirement already satisfied: threadpoolctl>=2.0.0 in c:\\users\\david\\appdata\\local\\programs\\python\\python312\\lib\\site-packages (from scikit-learn) (3.4.0)\n"
          ]
        }
      ],
      "source": [
        "!pip install tensorflow\n",
        "!pip install pandas\n",
        "!pip install scikit-learn\n",
        "import numpy as np\n",
        "import pandas as pd\n",
        "import tensorflow as tf\n",
        "import random\n",
        "from tensorflow.keras.models import Sequential\n",
        "from tensorflow.keras.layers import Dense, Activation, Dropout\n",
        "from sklearn.model_selection import train_test_split\n",
        "from sklearn.preprocessing import StandardScaler"
      ]
    },
    {
      "cell_type": "markdown",
      "metadata": {
        "id": "D0k73LCBhb6J"
      },
      "source": [
        "Prepare the initial training data"
      ]
    },
    {
      "cell_type": "code",
      "execution_count": 2,
      "metadata": {
        "id": "DNgxrmOugUtq"
      },
      "outputs": [],
      "source": [
        "# Load Data\n",
        "train_df = pd.read_csv(\"TrainingDataBinary.csv\")\n",
        "test_df = pd.read_csv(\"TestingDataBinary.csv\")\n",
        "\n",
        "# Split features and target\n",
        "x_train, x_test, y_train, y_test = train_test_split(train_df.iloc[:, :-1].values, train_df.iloc[:, -1].values, test_size=0.15)\n",
        "\n",
        "# Preprocessing - Scaling the features\n",
        "scaler = StandardScaler()\n",
        "X_train_scaled = scaler.fit_transform(x_train)\n",
        "X_test_scaled = scaler.transform(x_test)"
      ]
    },
    {
      "cell_type": "markdown",
      "metadata": {
        "id": "Jgdg8mI3lxTR"
      },
      "source": [
        "Set up the models"
      ]
    },
    {
      "cell_type": "code",
      "execution_count": 4,
      "metadata": {
        "id": "m1WZgZ82l11O"
      },
      "outputs": [],
      "source": [
        "layerTypes = {\n",
        "    \"dense\" : lambda x : Dense(x),\n",
        "    \"relu\" : Activation(\"relu\"),\n",
        "    \"sigmoid\" : Activation(\"sigmoid\"),\n",
        "    \"tanh\" : Activation(\"tanh\"),\n",
        "    \"softmax\" : Activation(\"softmax\"),\n",
        "    \"dropout\" : lambda x : Dropout(x),\n",
        "\n",
        "}\n",
        "\n",
        "# List of available optimizers\n",
        "optimizers = [\"sgd\", \"adam\", \"rmsprop\", \"adagrad\", \"adadelta\", \"nadam\", \"ftrl\"]\n",
        "\n",
        "activators = [\"relu\", \"sigmoid\",\"tanh\", \"softmax\"]\n",
        "\n",
        "# List of available loss functions\n",
        "loss_functions = [\n",
        "    tf.keras.losses.MeanSquaredError(),\n",
        "    tf.keras.losses.MeanAbsoluteError(),\n",
        "    tf.keras.losses.BinaryCrossentropy(),\n",
        "    tf.keras.losses.CategoricalCrossentropy(),\n",
        "    tf.keras.losses.SparseCategoricalCrossentropy(),\n",
        "    tf.keras.losses.Hinge(),\n",
        "    tf.keras.losses.SquaredHinge(),\n",
        "    tf.keras.losses.LogCosh(),\n",
        "    tf.keras.losses.KLDivergence(),\n",
        "    tf.keras.losses.Poisson(),\n",
        "    tf.keras.losses.CosineSimilarity(),\n",
        "    tf.keras.losses.Huber()\n",
        "]\n",
        "\n",
        "class Model:\n",
        "\n",
        "  #Randomly create a dense (and potentially activation/dropout) layers\n",
        "  def addLayer(self, start):\n",
        "    layer = []\n",
        "    nodes = 2 ** random.randint(3,8)\n",
        "    if start:\n",
        "      self.model.add(Dense(max(nodes,32), input_shape=(X_train_scaled.shape[1],)) )\n",
        "    else:\n",
        "      self.model.add(Dense(nodes))\n",
        "    layer.append((\"dense\",nodes))\n",
        "    if random.random() > 0.4:\n",
        "      active = random.choice(activators)\n",
        "      self.model.add(Activation(active))\n",
        "      layer.append((active,0))\n",
        "\n",
        "    if (dropout := random.random()) > 0.8:\n",
        "      self.model.add(Dropout(dropout - 0.8))\n",
        "      layer.append((\"dropout\", dropout - 0.8))\n",
        "    self.layers.append(layer)\n",
        "\n",
        "  def run(self):\n",
        "    print(self.layers)\n",
        "    self.model.fit(X_train_scaled, y_train, epochs=20, batch_size=32, validation_split=0.2)\n",
        "    print(res := self.model.evaluate(X_test_scaled, y_test))\n",
        "    self.accuracy = res[1]\n",
        "\n",
        "class NewModel(Model):\n",
        "  #Create a model from scratch\n",
        "  def __init__(self, layercount = 3):\n",
        "    while True:\n",
        "      try:\n",
        "        self.model = Sequential()\n",
        "        self.layers = []\n",
        "        for i in range(layercount):\n",
        "          self.addLayer(i == 0)\n",
        "        self.model.add(Dense(1))\n",
        "\n",
        "        self.model.add(Activation(activator := random.choice(activators)))\n",
        "        layer = [(\"dense\", 1),(activator,0)]\n",
        "        self.layers.append(layer)\n",
        "        lastLayer = ((random.choice(optimizers),random.choice(loss_functions)))\n",
        "        self.layers.append(lastLayer)\n",
        "\n",
        "        self.model.compile(optimizer=lastLayer[0], loss=lastLayer[1], metrics=['accuracy'])\n",
        "        self.run()\n",
        "        break\n",
        "      except Exception as e:\n",
        "        print(e)\n",
        "\n",
        "\n",
        "class EvolvedModel(Model):\n",
        "\n",
        "  #Randomly merge 2 models together\n",
        "  def __init__(self, inputLayers, inputLayers2):\n",
        "    while True:\n",
        "      try:\n",
        "        self.model = Sequential()\n",
        "        self.layers = []\n",
        "        for i in range(min(len(inputLayers),len(inputLayers2))):\n",
        "          if random.random() > 0.5:\n",
        "            self.layers.append(inputLayers[i])\n",
        "          else:\n",
        "            self.layers.append(inputLayers2[i])\n",
        "        first = True\n",
        "        for layer in self.layers[:-1]:\n",
        "          for i in layer:\n",
        "            if i[0] in activators:\n",
        "              self.model.add(layerTypes[i[0]])\n",
        "            elif i[0] in [\"dense\", \"dropout\"]:\n",
        "              if first:\n",
        "                self.model.add(Dense(max(i[1],32), input_shape=(X_train_scaled.shape[1],)))\n",
        "              else:\n",
        "                self.model.add(layerTypes[i[0]](i[1]))\n",
        "\n",
        "            else:\n",
        "              print(f\"Error: layer not recognised: {i[0]}\")\n",
        "        print(self.layers)\n",
        "\n",
        "        self.model.compile(optimizer=self.layers[-1][0], loss=self.layers[-1][1], metrics=['accuracy'])\n",
        "        self.run()\n",
        "        break\n",
        "      except Exception as e:\n",
        "        print(e)\n"
      ]
    },
    {
      "cell_type": "markdown",
      "metadata": {
        "id": "0KMYyjFixlgu"
      },
      "source": [
        "Evolutionarily find best algorithm"
      ]
    },
    {
      "cell_type": "code",
      "execution_count": 6,
      "metadata": {
        "colab": {
          "base_uri": "https://localhost:8080/"
        },
        "id": "PJV89LFlxkdE",
        "outputId": "3a519968-e3dc-4ea4-d20b-58b1c66e8e5a"
      },
      "outputs": [
        {
          "name": "stdout",
          "output_type": "stream",
          "text": [
            "[[('dense', 32), ('tanh', 0)], [('dense', 32), ('dropout', 0.19972194437552548)], [('dense', 64), ('sigmoid', 0)], [('dense', 1), ('softmax', 0)], ('sgd', <keras.src.losses.losses.CategoricalCrossentropy object at 0x00000252A1346480>)]\n",
            "Epoch 1/20\n",
            "\u001b[1m128/128\u001b[0m \u001b[32m━━━━━━━━━━━━━━━━━━━━\u001b[0m\u001b[37m\u001b[0m \u001b[1m0s\u001b[0m 1ms/step - accuracy: 0.5047 - loss: 0.0000e+00 - val_accuracy: 0.4775 - val_loss: 0.0000e+00\n",
            "Epoch 2/20\n",
            "\u001b[1m128/128\u001b[0m \u001b[32m━━━━━━━━━━━━━━━━━━━━\u001b[0m\u001b[37m\u001b[0m \u001b[1m0s\u001b[0m 553us/step - accuracy: 0.5050 - loss: 0.0000e+00 - val_accuracy: 0.4775 - val_loss: 0.0000e+00\n",
            "Epoch 3/20\n",
            "\u001b[1m128/128\u001b[0m \u001b[32m━━━━━━━━━━━━━━━━━━━━\u001b[0m\u001b[37m\u001b[0m \u001b[1m0s\u001b[0m 532us/step - accuracy: 0.5148 - loss: 0.0000e+00 - val_accuracy: 0.4775 - val_loss: 0.0000e+00\n",
            "Epoch 4/20\n",
            "\u001b[1m128/128\u001b[0m \u001b[32m━━━━━━━━━━━━━━━━━━━━\u001b[0m\u001b[37m\u001b[0m \u001b[1m0s\u001b[0m 553us/step - accuracy: 0.5135 - loss: 0.0000e+00 - val_accuracy: 0.4775 - val_loss: 0.0000e+00\n",
            "Epoch 5/20\n",
            "\u001b[1m128/128\u001b[0m \u001b[32m━━━━━━━━━━━━━━━━━━━━\u001b[0m\u001b[37m\u001b[0m \u001b[1m0s\u001b[0m 547us/step - accuracy: 0.4895 - loss: 0.0000e+00 - val_accuracy: 0.4775 - val_loss: 0.0000e+00\n",
            "Epoch 6/20\n",
            "\u001b[1m128/128\u001b[0m \u001b[32m━━━━━━━━━━━━━━━━━━━━\u001b[0m\u001b[37m\u001b[0m \u001b[1m0s\u001b[0m 557us/step - accuracy: 0.5221 - loss: 0.0000e+00 - val_accuracy: 0.4775 - val_loss: 0.0000e+00\n",
            "Epoch 7/20\n",
            "\u001b[1m128/128\u001b[0m \u001b[32m━━━━━━━━━━━━━━━━━━━━\u001b[0m\u001b[37m\u001b[0m \u001b[1m0s\u001b[0m 542us/step - accuracy: 0.5217 - loss: 0.0000e+00 - val_accuracy: 0.4775 - val_loss: 0.0000e+00\n",
            "Epoch 8/20\n",
            "\u001b[1m128/128\u001b[0m \u001b[32m━━━━━━━━━━━━━━━━━━━━\u001b[0m\u001b[37m\u001b[0m \u001b[1m0s\u001b[0m 528us/step - accuracy: 0.5147 - loss: 0.0000e+00 - val_accuracy: 0.4775 - val_loss: 0.0000e+00\n",
            "Epoch 9/20\n",
            "\u001b[1m128/128\u001b[0m \u001b[32m━━━━━━━━━━━━━━━━━━━━\u001b[0m\u001b[37m\u001b[0m \u001b[1m0s\u001b[0m 554us/step - accuracy: 0.5114 - loss: 0.0000e+00 - val_accuracy: 0.4775 - val_loss: 0.0000e+00\n",
            "Epoch 10/20\n",
            "\u001b[1m128/128\u001b[0m \u001b[32m━━━━━━━━━━━━━━━━━━━━\u001b[0m\u001b[37m\u001b[0m \u001b[1m0s\u001b[0m 557us/step - accuracy: 0.5052 - loss: 0.0000e+00 - val_accuracy: 0.4775 - val_loss: 0.0000e+00\n",
            "Epoch 11/20\n",
            "\u001b[1m128/128\u001b[0m \u001b[32m━━━━━━━━━━━━━━━━━━━━\u001b[0m\u001b[37m\u001b[0m \u001b[1m0s\u001b[0m 558us/step - accuracy: 0.5154 - loss: 0.0000e+00 - val_accuracy: 0.4775 - val_loss: 0.0000e+00\n",
            "Epoch 12/20\n",
            "\u001b[1m128/128\u001b[0m \u001b[32m━━━━━━━━━━━━━━━━━━━━\u001b[0m\u001b[37m\u001b[0m \u001b[1m0s\u001b[0m 549us/step - accuracy: 0.5024 - loss: 0.0000e+00 - val_accuracy: 0.4775 - val_loss: 0.0000e+00\n",
            "Epoch 13/20\n",
            "\u001b[1m128/128\u001b[0m \u001b[32m━━━━━━━━━━━━━━━━━━━━\u001b[0m\u001b[37m\u001b[0m \u001b[1m0s\u001b[0m 538us/step - accuracy: 0.5184 - loss: 0.0000e+00 - val_accuracy: 0.4775 - val_loss: 0.0000e+00\n",
            "Epoch 14/20\n",
            "\u001b[1m128/128\u001b[0m \u001b[32m━━━━━━━━━━━━━━━━━━━━\u001b[0m\u001b[37m\u001b[0m \u001b[1m0s\u001b[0m 537us/step - accuracy: 0.5159 - loss: 0.0000e+00 - val_accuracy: 0.4775 - val_loss: 0.0000e+00\n",
            "Epoch 15/20\n",
            "\u001b[1m128/128\u001b[0m \u001b[32m━━━━━━━━━━━━━━━━━━━━\u001b[0m\u001b[37m\u001b[0m \u001b[1m0s\u001b[0m 522us/step - accuracy: 0.5002 - loss: 0.0000e+00 - val_accuracy: 0.4775 - val_loss: 0.0000e+00\n",
            "Epoch 16/20\n",
            "\u001b[1m128/128\u001b[0m \u001b[32m━━━━━━━━━━━━━━━━━━━━\u001b[0m\u001b[37m\u001b[0m \u001b[1m0s\u001b[0m 544us/step - accuracy: 0.5030 - loss: 0.0000e+00 - val_accuracy: 0.4775 - val_loss: 0.0000e+00\n",
            "Epoch 17/20\n",
            "\u001b[1m128/128\u001b[0m \u001b[32m━━━━━━━━━━━━━━━━━━━━\u001b[0m\u001b[37m\u001b[0m \u001b[1m0s\u001b[0m 541us/step - accuracy: 0.5135 - loss: 0.0000e+00 - val_accuracy: 0.4775 - val_loss: 0.0000e+00\n",
            "Epoch 18/20\n",
            "\u001b[1m128/128\u001b[0m \u001b[32m━━━━━━━━━━━━━━━━━━━━\u001b[0m\u001b[37m\u001b[0m \u001b[1m0s\u001b[0m 528us/step - accuracy: 0.5240 - loss: 0.0000e+00 - val_accuracy: 0.4775 - val_loss: 0.0000e+00\n",
            "Epoch 19/20\n",
            "\u001b[1m128/128\u001b[0m \u001b[32m━━━━━━━━━━━━━━━━━━━━\u001b[0m\u001b[37m\u001b[0m \u001b[1m0s\u001b[0m 538us/step - accuracy: 0.5068 - loss: 0.0000e+00 - val_accuracy: 0.4775 - val_loss: 0.0000e+00\n",
            "Epoch 20/20\n",
            "\u001b[1m128/128\u001b[0m \u001b[32m━━━━━━━━━━━━━━━━━━━━\u001b[0m\u001b[37m\u001b[0m \u001b[1m0s\u001b[0m 529us/step - accuracy: 0.5184 - loss: 0.0000e+00 - val_accuracy: 0.4775 - val_loss: 0.0000e+00\n",
            "\u001b[1m29/29\u001b[0m \u001b[32m━━━━━━━━━━━━━━━━━━━━\u001b[0m\u001b[37m\u001b[0m \u001b[1m0s\u001b[0m 452us/step - accuracy: 0.4863 - loss: 0.0000e+00\n",
            "[0.0, 0.46888887882232666]\n",
            "[[('dense', 64), ('sigmoid', 0)], [('dense', 64), ('softmax', 0)], [('dense', 8), ('relu', 0)], [('dense', 1), ('softmax', 0)], ('adam', <keras.src.losses.losses.CategoricalCrossentropy object at 0x00000252A1346480>)]\n",
            "Epoch 1/20\n",
            "\u001b[1m128/128\u001b[0m \u001b[32m━━━━━━━━━━━━━━━━━━━━\u001b[0m\u001b[37m\u001b[0m \u001b[1m1s\u001b[0m 1ms/step - accuracy: 0.5170 - loss: 0.0000e+00 - val_accuracy: 0.4775 - val_loss: 0.0000e+00\n",
            "Epoch 2/20\n",
            "\u001b[1m128/128\u001b[0m \u001b[32m━━━━━━━━━━━━━━━━━━━━\u001b[0m\u001b[37m\u001b[0m \u001b[1m0s\u001b[0m 643us/step - accuracy: 0.5196 - loss: 0.0000e+00 - val_accuracy: 0.4775 - val_loss: 0.0000e+00\n",
            "Epoch 3/20\n",
            "\u001b[1m128/128\u001b[0m \u001b[32m━━━━━━━━━━━━━━━━━━━━\u001b[0m\u001b[37m\u001b[0m \u001b[1m0s\u001b[0m 650us/step - accuracy: 0.5004 - loss: 0.0000e+00 - val_accuracy: 0.4775 - val_loss: 0.0000e+00\n",
            "Epoch 4/20\n",
            "\u001b[1m128/128\u001b[0m \u001b[32m━━━━━━━━━━━━━━━━━━━━\u001b[0m\u001b[37m\u001b[0m \u001b[1m0s\u001b[0m 641us/step - accuracy: 0.5179 - loss: 0.0000e+00 - val_accuracy: 0.4775 - val_loss: 0.0000e+00\n",
            "Epoch 5/20\n",
            "\u001b[1m128/128\u001b[0m \u001b[32m━━━━━━━━━━━━━━━━━━━━\u001b[0m\u001b[37m\u001b[0m \u001b[1m0s\u001b[0m 644us/step - accuracy: 0.5165 - loss: 0.0000e+00 - val_accuracy: 0.4775 - val_loss: 0.0000e+00\n",
            "Epoch 6/20\n",
            "\u001b[1m128/128\u001b[0m \u001b[32m━━━━━━━━━━━━━━━━━━━━\u001b[0m\u001b[37m\u001b[0m \u001b[1m0s\u001b[0m 641us/step - accuracy: 0.5052 - loss: 0.0000e+00 - val_accuracy: 0.4775 - val_loss: 0.0000e+00\n",
            "Epoch 7/20\n",
            "\u001b[1m128/128\u001b[0m \u001b[32m━━━━━━━━━━━━━━━━━━━━\u001b[0m\u001b[37m\u001b[0m \u001b[1m0s\u001b[0m 643us/step - accuracy: 0.5098 - loss: 0.0000e+00 - val_accuracy: 0.4775 - val_loss: 0.0000e+00\n",
            "Epoch 8/20\n",
            "\u001b[1m128/128\u001b[0m \u001b[32m━━━━━━━━━━━━━━━━━━━━\u001b[0m\u001b[37m\u001b[0m \u001b[1m0s\u001b[0m 653us/step - accuracy: 0.5110 - loss: 0.0000e+00 - val_accuracy: 0.4775 - val_loss: 0.0000e+00\n",
            "Epoch 9/20\n",
            "\u001b[1m128/128\u001b[0m \u001b[32m━━━━━━━━━━━━━━━━━━━━\u001b[0m\u001b[37m\u001b[0m \u001b[1m0s\u001b[0m 650us/step - accuracy: 0.5206 - loss: 0.0000e+00 - val_accuracy: 0.4775 - val_loss: 0.0000e+00\n",
            "Epoch 10/20\n",
            "\u001b[1m128/128\u001b[0m \u001b[32m━━━━━━━━━━━━━━━━━━━━\u001b[0m\u001b[37m\u001b[0m \u001b[1m0s\u001b[0m 653us/step - accuracy: 0.5150 - loss: 0.0000e+00 - val_accuracy: 0.4775 - val_loss: 0.0000e+00\n",
            "Epoch 11/20\n",
            "\u001b[1m128/128\u001b[0m \u001b[32m━━━━━━━━━━━━━━━━━━━━\u001b[0m\u001b[37m\u001b[0m \u001b[1m0s\u001b[0m 634us/step - accuracy: 0.5093 - loss: 0.0000e+00 - val_accuracy: 0.4775 - val_loss: 0.0000e+00\n",
            "Epoch 12/20\n",
            "\u001b[1m128/128\u001b[0m \u001b[32m━━━━━━━━━━━━━━━━━━━━\u001b[0m\u001b[37m\u001b[0m \u001b[1m0s\u001b[0m 638us/step - accuracy: 0.5051 - loss: 0.0000e+00 - val_accuracy: 0.4775 - val_loss: 0.0000e+00\n",
            "Epoch 13/20\n",
            "\u001b[1m128/128\u001b[0m \u001b[32m━━━━━━━━━━━━━━━━━━━━\u001b[0m\u001b[37m\u001b[0m \u001b[1m0s\u001b[0m 640us/step - accuracy: 0.5136 - loss: 0.0000e+00 - val_accuracy: 0.4775 - val_loss: 0.0000e+00\n",
            "Epoch 14/20\n",
            "\u001b[1m128/128\u001b[0m \u001b[32m━━━━━━━━━━━━━━━━━━━━\u001b[0m\u001b[37m\u001b[0m \u001b[1m0s\u001b[0m 637us/step - accuracy: 0.5077 - loss: 0.0000e+00 - val_accuracy: 0.4775 - val_loss: 0.0000e+00\n",
            "Epoch 15/20\n",
            "\u001b[1m128/128\u001b[0m \u001b[32m━━━━━━━━━━━━━━━━━━━━\u001b[0m\u001b[37m\u001b[0m \u001b[1m0s\u001b[0m 645us/step - accuracy: 0.5153 - loss: 0.0000e+00 - val_accuracy: 0.4775 - val_loss: 0.0000e+00\n",
            "Epoch 16/20\n",
            "\u001b[1m128/128\u001b[0m \u001b[32m━━━━━━━━━━━━━━━━━━━━\u001b[0m\u001b[37m\u001b[0m \u001b[1m0s\u001b[0m 639us/step - accuracy: 0.5149 - loss: 0.0000e+00 - val_accuracy: 0.4775 - val_loss: 0.0000e+00\n",
            "Epoch 17/20\n",
            "\u001b[1m128/128\u001b[0m \u001b[32m━━━━━━━━━━━━━━━━━━━━\u001b[0m\u001b[37m\u001b[0m \u001b[1m0s\u001b[0m 632us/step - accuracy: 0.5148 - loss: 0.0000e+00 - val_accuracy: 0.4775 - val_loss: 0.0000e+00\n",
            "Epoch 18/20\n",
            "\u001b[1m128/128\u001b[0m \u001b[32m━━━━━━━━━━━━━━━━━━━━\u001b[0m\u001b[37m\u001b[0m \u001b[1m0s\u001b[0m 630us/step - accuracy: 0.5134 - loss: 0.0000e+00 - val_accuracy: 0.4775 - val_loss: 0.0000e+00\n",
            "Epoch 19/20\n",
            "\u001b[1m128/128\u001b[0m \u001b[32m━━━━━━━━━━━━━━━━━━━━\u001b[0m\u001b[37m\u001b[0m \u001b[1m0s\u001b[0m 634us/step - accuracy: 0.4954 - loss: 0.0000e+00 - val_accuracy: 0.4775 - val_loss: 0.0000e+00\n",
            "Epoch 20/20\n",
            "\u001b[1m128/128\u001b[0m \u001b[32m━━━━━━━━━━━━━━━━━━━━\u001b[0m\u001b[37m\u001b[0m \u001b[1m0s\u001b[0m 632us/step - accuracy: 0.5069 - loss: 0.0000e+00 - val_accuracy: 0.4775 - val_loss: 0.0000e+00\n",
            "\u001b[1m29/29\u001b[0m \u001b[32m━━━━━━━━━━━━━━━━━━━━\u001b[0m\u001b[37m\u001b[0m \u001b[1m0s\u001b[0m 429us/step - accuracy: 0.4863 - loss: 0.0000e+00\n",
            "[0.0, 0.46888887882232666]\n",
            "[[('dense', 256), ('tanh', 0)], [('dense', 16), ('dropout', 0.13625970871130977)], [('dense', 256)], [('dense', 1), ('softmax', 0)], ('adam', <keras.src.losses.losses.SparseCategoricalCrossentropy object at 0x000002528A24D9D0>)]\n",
            "Epoch 1/20\n"
          ]
        },
        {
          "ename": "NameError",
          "evalue": "name 'e' is not defined",
          "output_type": "error",
          "traceback": [
            "\u001b[1;31m---------------------------------------------------------------------------\u001b[0m",
            "\u001b[1;31mInvalidArgumentError\u001b[0m                      Traceback (most recent call last)",
            "Cell \u001b[1;32mIn[4], line 77\u001b[0m, in \u001b[0;36mNewModel.__init__\u001b[1;34m(self, layercount)\u001b[0m\n\u001b[0;32m     76\u001b[0m \u001b[38;5;28mself\u001b[39m\u001b[38;5;241m.\u001b[39mmodel\u001b[38;5;241m.\u001b[39mcompile(optimizer\u001b[38;5;241m=\u001b[39mlastLayer[\u001b[38;5;241m0\u001b[39m], loss\u001b[38;5;241m=\u001b[39mlastLayer[\u001b[38;5;241m1\u001b[39m], metrics\u001b[38;5;241m=\u001b[39m[\u001b[38;5;124m'\u001b[39m\u001b[38;5;124maccuracy\u001b[39m\u001b[38;5;124m'\u001b[39m])\n\u001b[1;32m---> 77\u001b[0m \u001b[38;5;28;43mself\u001b[39;49m\u001b[38;5;241;43m.\u001b[39;49m\u001b[43mrun\u001b[49m\u001b[43m(\u001b[49m\u001b[43m)\u001b[49m\n\u001b[0;32m     78\u001b[0m \u001b[38;5;28;01mbreak\u001b[39;00m\n",
            "Cell \u001b[1;32mIn[4], line 55\u001b[0m, in \u001b[0;36mModel.run\u001b[1;34m(self)\u001b[0m\n\u001b[0;32m     54\u001b[0m \u001b[38;5;28mprint\u001b[39m(\u001b[38;5;28mself\u001b[39m\u001b[38;5;241m.\u001b[39mlayers)\n\u001b[1;32m---> 55\u001b[0m \u001b[38;5;28;43mself\u001b[39;49m\u001b[38;5;241;43m.\u001b[39;49m\u001b[43mmodel\u001b[49m\u001b[38;5;241;43m.\u001b[39;49m\u001b[43mfit\u001b[49m\u001b[43m(\u001b[49m\u001b[43mX_train_scaled\u001b[49m\u001b[43m,\u001b[49m\u001b[43m \u001b[49m\u001b[43my_train\u001b[49m\u001b[43m,\u001b[49m\u001b[43m \u001b[49m\u001b[43mepochs\u001b[49m\u001b[38;5;241;43m=\u001b[39;49m\u001b[38;5;241;43m20\u001b[39;49m\u001b[43m,\u001b[49m\u001b[43m \u001b[49m\u001b[43mbatch_size\u001b[49m\u001b[38;5;241;43m=\u001b[39;49m\u001b[38;5;241;43m32\u001b[39;49m\u001b[43m,\u001b[49m\u001b[43m \u001b[49m\u001b[43mvalidation_split\u001b[49m\u001b[38;5;241;43m=\u001b[39;49m\u001b[38;5;241;43m0.2\u001b[39;49m\u001b[43m)\u001b[49m\n\u001b[0;32m     56\u001b[0m \u001b[38;5;28mprint\u001b[39m(res \u001b[38;5;241m:=\u001b[39m \u001b[38;5;28mself\u001b[39m\u001b[38;5;241m.\u001b[39mmodel\u001b[38;5;241m.\u001b[39mevaluate(X_test_scaled, y_test))\n",
            "File \u001b[1;32mc:\\Users\\david\\AppData\\Local\\Programs\\Python\\Python312\\Lib\\site-packages\\keras\\src\\utils\\traceback_utils.py:122\u001b[0m, in \u001b[0;36mfilter_traceback.<locals>.error_handler\u001b[1;34m(*args, **kwargs)\u001b[0m\n\u001b[0;32m    120\u001b[0m     \u001b[38;5;66;03m# To get the full stack trace, call:\u001b[39;00m\n\u001b[0;32m    121\u001b[0m     \u001b[38;5;66;03m# `keras.config.disable_traceback_filtering()`\u001b[39;00m\n\u001b[1;32m--> 122\u001b[0m     \u001b[38;5;28;01mraise\u001b[39;00m e\u001b[38;5;241m.\u001b[39mwith_traceback(filtered_tb) \u001b[38;5;28;01mfrom\u001b[39;00m \u001b[38;5;28;01mNone\u001b[39;00m\n\u001b[0;32m    123\u001b[0m \u001b[38;5;28;01mfinally\u001b[39;00m:\n",
            "File \u001b[1;32mc:\\Users\\david\\AppData\\Local\\Programs\\Python\\Python312\\Lib\\site-packages\\tensorflow\\python\\eager\\execute.py:53\u001b[0m, in \u001b[0;36mquick_execute\u001b[1;34m(op_name, num_outputs, inputs, attrs, ctx, name)\u001b[0m\n\u001b[0;32m     52\u001b[0m   ctx\u001b[38;5;241m.\u001b[39mensure_initialized()\n\u001b[1;32m---> 53\u001b[0m   tensors \u001b[38;5;241m=\u001b[39m pywrap_tfe\u001b[38;5;241m.\u001b[39mTFE_Py_Execute(ctx\u001b[38;5;241m.\u001b[39m_handle, device_name, op_name,\n\u001b[0;32m     54\u001b[0m                                       inputs, attrs, num_outputs)\n\u001b[0;32m     55\u001b[0m \u001b[38;5;28;01mexcept\u001b[39;00m core\u001b[38;5;241m.\u001b[39m_NotOkStatusException \u001b[38;5;28;01mas\u001b[39;00m e:\n",
            "\u001b[1;31mInvalidArgumentError\u001b[0m: Graph execution error:\n\nDetected at node compile_loss/sparse_categorical_crossentropy/SparseSoftmaxCrossEntropyWithLogits/SparseSoftmaxCrossEntropyWithLogits defined at (most recent call last):\n  File \"<frozen runpy>\", line 198, in _run_module_as_main\n\n  File \"<frozen runpy>\", line 88, in _run_code\n\n  File \"c:\\Users\\david\\AppData\\Local\\Programs\\Python\\Python312\\Lib\\site-packages\\ipykernel_launcher.py\", line 18, in <module>\n\n  File \"c:\\Users\\david\\AppData\\Local\\Programs\\Python\\Python312\\Lib\\site-packages\\traitlets\\config\\application.py\", line 1075, in launch_instance\n\n  File \"c:\\Users\\david\\AppData\\Local\\Programs\\Python\\Python312\\Lib\\site-packages\\ipykernel\\kernelapp.py\", line 739, in start\n\n  File \"c:\\Users\\david\\AppData\\Local\\Programs\\Python\\Python312\\Lib\\site-packages\\tornado\\platform\\asyncio.py\", line 205, in start\n\n  File \"c:\\Users\\david\\AppData\\Local\\Programs\\Python\\Python312\\Lib\\asyncio\\base_events.py\", line 641, in run_forever\n\n  File \"c:\\Users\\david\\AppData\\Local\\Programs\\Python\\Python312\\Lib\\asyncio\\base_events.py\", line 1987, in _run_once\n\n  File \"c:\\Users\\david\\AppData\\Local\\Programs\\Python\\Python312\\Lib\\asyncio\\events.py\", line 88, in _run\n\n  File \"c:\\Users\\david\\AppData\\Local\\Programs\\Python\\Python312\\Lib\\site-packages\\ipykernel\\kernelbase.py\", line 545, in dispatch_queue\n\n  File \"c:\\Users\\david\\AppData\\Local\\Programs\\Python\\Python312\\Lib\\site-packages\\ipykernel\\kernelbase.py\", line 534, in process_one\n\n  File \"c:\\Users\\david\\AppData\\Local\\Programs\\Python\\Python312\\Lib\\site-packages\\ipykernel\\kernelbase.py\", line 437, in dispatch_shell\n\n  File \"c:\\Users\\david\\AppData\\Local\\Programs\\Python\\Python312\\Lib\\site-packages\\ipykernel\\ipkernel.py\", line 362, in execute_request\n\n  File \"c:\\Users\\david\\AppData\\Local\\Programs\\Python\\Python312\\Lib\\site-packages\\ipykernel\\kernelbase.py\", line 778, in execute_request\n\n  File \"c:\\Users\\david\\AppData\\Local\\Programs\\Python\\Python312\\Lib\\site-packages\\ipykernel\\ipkernel.py\", line 449, in do_execute\n\n  File \"c:\\Users\\david\\AppData\\Local\\Programs\\Python\\Python312\\Lib\\site-packages\\ipykernel\\zmqshell.py\", line 549, in run_cell\n\n  File \"c:\\Users\\david\\AppData\\Local\\Programs\\Python\\Python312\\Lib\\site-packages\\IPython\\core\\interactiveshell.py\", line 3075, in run_cell\n\n  File \"c:\\Users\\david\\AppData\\Local\\Programs\\Python\\Python312\\Lib\\site-packages\\IPython\\core\\interactiveshell.py\", line 3130, in _run_cell\n\n  File \"c:\\Users\\david\\AppData\\Local\\Programs\\Python\\Python312\\Lib\\site-packages\\IPython\\core\\async_helpers.py\", line 129, in _pseudo_sync_runner\n\n  File \"c:\\Users\\david\\AppData\\Local\\Programs\\Python\\Python312\\Lib\\site-packages\\IPython\\core\\interactiveshell.py\", line 3334, in run_cell_async\n\n  File \"c:\\Users\\david\\AppData\\Local\\Programs\\Python\\Python312\\Lib\\site-packages\\IPython\\core\\interactiveshell.py\", line 3517, in run_ast_nodes\n\n  File \"c:\\Users\\david\\AppData\\Local\\Programs\\Python\\Python312\\Lib\\site-packages\\IPython\\core\\interactiveshell.py\", line 3577, in run_code\n\n  File \"C:\\Users\\david\\AppData\\Local\\Temp\\ipykernel_26288\\2701758463.py\", line 2, in <module>\n\n  File \"C:\\Users\\david\\AppData\\Local\\Temp\\ipykernel_26288\\456030000.py\", line 77, in __init__\n\n  File \"C:\\Users\\david\\AppData\\Local\\Temp\\ipykernel_26288\\456030000.py\", line 55, in run\n\n  File \"c:\\Users\\david\\AppData\\Local\\Programs\\Python\\Python312\\Lib\\site-packages\\keras\\src\\utils\\traceback_utils.py\", line 117, in error_handler\n\n  File \"c:\\Users\\david\\AppData\\Local\\Programs\\Python\\Python312\\Lib\\site-packages\\keras\\src\\backend\\tensorflow\\trainer.py\", line 329, in fit\n\n  File \"c:\\Users\\david\\AppData\\Local\\Programs\\Python\\Python312\\Lib\\site-packages\\keras\\src\\backend\\tensorflow\\trainer.py\", line 122, in one_step_on_iterator\n\n  File \"c:\\Users\\david\\AppData\\Local\\Programs\\Python\\Python312\\Lib\\site-packages\\keras\\src\\backend\\tensorflow\\trainer.py\", line 110, in one_step_on_data\n\n  File \"c:\\Users\\david\\AppData\\Local\\Programs\\Python\\Python312\\Lib\\site-packages\\keras\\src\\backend\\tensorflow\\trainer.py\", line 60, in train_step\n\n  File \"c:\\Users\\david\\AppData\\Local\\Programs\\Python\\Python312\\Lib\\site-packages\\keras\\src\\trainers\\trainer.py\", line 323, in compute_loss\n\n  File \"c:\\Users\\david\\AppData\\Local\\Programs\\Python\\Python312\\Lib\\site-packages\\keras\\src\\trainers\\compile_utils.py\", line 605, in __call__\n\n  File \"c:\\Users\\david\\AppData\\Local\\Programs\\Python\\Python312\\Lib\\site-packages\\keras\\src\\trainers\\compile_utils.py\", line 641, in call\n\n  File \"c:\\Users\\david\\AppData\\Local\\Programs\\Python\\Python312\\Lib\\site-packages\\keras\\src\\losses\\loss.py\", line 42, in __call__\n\n  File \"c:\\Users\\david\\AppData\\Local\\Programs\\Python\\Python312\\Lib\\site-packages\\keras\\src\\losses\\losses.py\", line 22, in call\n\n  File \"c:\\Users\\david\\AppData\\Local\\Programs\\Python\\Python312\\Lib\\site-packages\\keras\\src\\losses\\losses.py\", line 1714, in sparse_categorical_crossentropy\n\n  File \"c:\\Users\\david\\AppData\\Local\\Programs\\Python\\Python312\\Lib\\site-packages\\keras\\src\\ops\\nn.py\", line 1567, in sparse_categorical_crossentropy\n\n  File \"c:\\Users\\david\\AppData\\Local\\Programs\\Python\\Python312\\Lib\\site-packages\\keras\\src\\backend\\tensorflow\\nn.py\", line 659, in sparse_categorical_crossentropy\n\nReceived a label value of 1 which is outside the valid range of [0, 1).  Label values: 1 0 0 1 1 0 1 1 1 1 1 0 1 1 0 0 0 0 1 1 0 1 1 1 1 0 0 0 0 1 0 0\n\t [[{{node compile_loss/sparse_categorical_crossentropy/SparseSoftmaxCrossEntropyWithLogits/SparseSoftmaxCrossEntropyWithLogits}}]] [Op:__inference_one_step_on_iterator_199794]",
            "\nDuring handling of the above exception, another exception occurred:\n",
            "\u001b[1;31mNameError\u001b[0m                                 Traceback (most recent call last)",
            "Cell \u001b[1;32mIn[6], line 2\u001b[0m\n\u001b[0;32m      1\u001b[0m \u001b[38;5;66;03m#Create the original models\u001b[39;00m\n\u001b[1;32m----> 2\u001b[0m AIs \u001b[38;5;241m=\u001b[39m [\u001b[43mNewModel\u001b[49m\u001b[43m(\u001b[49m\u001b[43m)\u001b[49m \u001b[38;5;28;01mfor\u001b[39;00m i \u001b[38;5;129;01min\u001b[39;00m \u001b[38;5;28mrange\u001b[39m(\u001b[38;5;241m8\u001b[39m)]\n\u001b[0;32m      3\u001b[0m counter \u001b[38;5;241m=\u001b[39m \u001b[38;5;241m0\u001b[39m\n\u001b[0;32m      4\u001b[0m \u001b[38;5;28;01mwhile\u001b[39;00m \u001b[38;5;28;01mTrue\u001b[39;00m:\n\u001b[0;32m      5\u001b[0m   \u001b[38;5;66;03m#Sort the models to find the best\u001b[39;00m\n",
            "Cell \u001b[1;32mIn[4], line 80\u001b[0m, in \u001b[0;36mNewModel.__init__\u001b[1;34m(self, layercount)\u001b[0m\n\u001b[0;32m     78\u001b[0m   \u001b[38;5;28;01mbreak\u001b[39;00m\n\u001b[0;32m     79\u001b[0m \u001b[38;5;28;01mexcept\u001b[39;00m:\n\u001b[1;32m---> 80\u001b[0m   \u001b[38;5;28mprint\u001b[39m(\u001b[43me\u001b[49m)\n",
            "\u001b[1;31mNameError\u001b[0m: name 'e' is not defined"
          ]
        }
      ],
      "source": [
        "\n",
        "#Create the original models\n",
        "AIs = [NewModel() for i in range(8)]\n",
        "counter = 0\n",
        "while True:\n",
        "  #Sort the models to find the best\n",
        "  AIs.sort(key=lambda AI: AI.accuracy, reverse=True)\n",
        "  print(f\"Round {counter :+= 1}\")\n",
        "  [print(f\"{i}: {AIs[i].accuracy}: {AIs[i].layers}\") for i in range(len(AIs))]\n",
        "  newAIs = [AIs[0]]\n",
        "  #Evolve the models\n",
        "  for i in range(4):\n",
        "    newAIs.append(EvolvedModel(AIs[0].layers,AIs[1].layers))\n",
        "  #Introduce new models\n",
        "  for i in range(3):\n",
        "    newAIs.append(NewModel())\n",
        "  AIs = newAIs"
      ]
    },
    {
      "cell_type": "code",
      "execution_count": null,
      "metadata": {
        "id": "6Q6SmGlK380M"
      },
      "outputs": [],
      "source": [
        "#[[('dense', 256)], [('dense', 32), ('relu', 0)], [('dense', 64), ('sigmoid', 0)], [('dense', 1), ('tanh', 0)], ('nadam', <keras.src.losses.BinaryCrossentropy object at 0x7e2e8a503a00>)]\n",
        "#[[('dense', 8), ('relu', 0)], [('dense', 1), ('dropout', 0.05065572180245603)], [('dense', 32), ('tanh', 0)], [('dense', 1), ('tanh', 0)], ('rmsprop', <keras.src.losses.LogCosh object at 0x7800c126a1d0>)]\n",
        "#[[('dense', 2)], [('dense', 32), ('tanh', 0), ('dropout', 0.010379300249843015)], [('dense', 128)], [('dense', 1), ('relu', 0)], ('sgd', <keras.src.losses.CategoricalCrossentropy object at 0x7800b995f2e0>)]\n",
        "\n",
        "model.evaluate(X_test_scaled, y_test)[0]"
      ]
    },
    {
      "cell_type": "markdown",
      "metadata": {
        "id": "lBZc9t-8hT5F"
      },
      "source": [
        "Use the model to make predictions"
      ]
    },
    {
      "cell_type": "code",
      "execution_count": null,
      "metadata": {
        "id": "2Jv0VfBOhPzS"
      },
      "outputs": [],
      "source": [
        "# Make predictions on the test set\n",
        "predictions = model.predict(X_test_scaled)\n",
        "predicted_labels = (predictions > 0.5).astype(int).flatten()\n",
        "\n",
        "# Save predictions to CSV\n",
        "output_df = pd.DataFrame(predicted_labels, columns=['PredictedLabel'])\n",
        "output_df.to_csv('TestingResultsBinary.csv', index=False)\n",
        "\n",
        "print(\"Model training complete and predictions saved.\")\n"
      ]
    }
  ],
  "metadata": {
    "accelerator": "GPU",
    "colab": {
      "provenance": []
    },
    "gpuClass": "standard",
    "kernelspec": {
      "display_name": "Python 3",
      "name": "python3"
    },
    "language_info": {
      "codemirror_mode": {
        "name": "ipython",
        "version": 3
      },
      "file_extension": ".py",
      "mimetype": "text/x-python",
      "name": "python",
      "nbconvert_exporter": "python",
      "pygments_lexer": "ipython3",
      "version": "3.12.3"
    }
  },
  "nbformat": 4,
  "nbformat_minor": 0
}
